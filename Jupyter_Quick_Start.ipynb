{
 "cells": [
  {
   "cell_type": "markdown",
   "metadata": {
    "slideshow": {
     "slide_type": "slide"
    }
   },
   "source": [
    "Jupyter使用的教程"
   ]
  },
  {
   "cell_type": "markdown",
   "metadata": {
    "slideshow": {
     "slide_type": "slide"
    }
   },
   "source": [
    "## 如何本地运行本教程\n",
    "1. 安装Jupyter到本地，详见[Jupyter Notebook](https://alexanderwangsgithub.github.io/blog/Jupyter_notebook.html)\n",
    "2. 安装git后，执行git clone \n",
    "3. 到笔记本目录下，执行`jupyter notebook`"
   ]
  },
  {
   "cell_type": "markdown",
   "metadata": {
    "slideshow": {
     "slide_type": "slide"
    }
   },
   "source": [
    "## 菜单栏\n",
    "- File\n",
    "- Edit\n",
    "- View\n",
    "- Insert\n",
    "- Cell\n",
    "- Kernel\n",
    "- Help"
   ]
  },
  {
   "cell_type": "markdown",
   "metadata": {
    "slideshow": {
     "slide_type": "subslide"
    }
   },
   "source": [
    "### File\n",
    "##### New Notebook-->Python3 \n",
    "打开一个新笔记\n",
    "##### Open...\n",
    "##### Make a Copy\n",
    "##### Rename\n",
    "##### Save and Checkpoint\n",
    "Checkpoint是一个记录点\n",
    "##### Revert to Checkpoint\n",
    "返回到某一个记录点\n",
    "##### Print View\n",
    "##### Download as\n",
    "- ipynb\n",
    "- py\n",
    "会将`%%`（Jupyter命令）和`!`（Unix命令）转换为Python，挺有用的\n",
    "- md\n",
    "直接转md，发博客方便\n",
    "- html\n",
    "- pdf\n",
    "\n",
    "##### Close and Halt"
   ]
  },
  {
   "cell_type": "markdown",
   "metadata": {
    "slideshow": {
     "slide_type": "subslide"
    }
   },
   "source": [
    "### Edit\n",
    "都是对Cell操作的，和ToolBar基本一致。\n",
    "包括复制、粘贴、删除、合并、移动"
   ]
  },
  {
   "cell_type": "markdown",
   "metadata": {
    "slideshow": {
     "slide_type": "subslide"
    }
   },
   "source": [
    "### View\n",
    "#### Toggle Header\n",
    "是否显示头部信息，包括文件名和举例上次保存时间\n",
    "#### Toggle ToolBar\n",
    "是否显示工具栏\n",
    "#### Cell ToolBar\n",
    "- None\n",
    "啥也不展示\n",
    "- Edit MetaData\n",
    "Cell的Json属性\n",
    "```json\n",
    "{\n",
    "  \"slideshow\": {\n",
    "    \"slide_type\": \"subslide\"\n",
    "  }\n",
    "}\n",
    "```\n",
    "- Raw Cell format\n",
    "应该是格式化\n",
    "- Slideshow\n",
    "最有用的！用于制作Slides"
   ]
  },
  {
   "cell_type": "markdown",
   "metadata": {
    "slideshow": {
     "slide_type": "subslide"
    }
   },
   "source": [
    "### Insert\n",
    "#### Insert Cell Above\n",
    "#### Insert Cell Below"
   ]
  },
  {
   "cell_type": "markdown",
   "metadata": {
    "slideshow": {
     "slide_type": "subslide"
    }
   },
   "source": [
    "### Cell\n",
    "ToolBar里基本都有"
   ]
  },
  {
   "cell_type": "markdown",
   "metadata": {
    "collapsed": true,
    "slideshow": {
     "slide_type": "subslide"
    }
   },
   "source": [
    "### Kernel\n",
    "Restart和Reconnect相关\n",
    "Change Kernel：换Python环境"
   ]
  },
  {
   "cell_type": "markdown",
   "metadata": {
    "collapsed": true,
    "slideshow": {
     "slide_type": "subslide"
    }
   },
   "source": [
    "### Help\n",
    "一些教程链接\n",
    "- Python\n",
    "- IPython\n",
    "- NumPy（数值数组矩阵运算）\n",
    "- SciPy（微分积分）\n",
    "- MatPlotlib（绘图）\n",
    "- SymPy（数学符号）\n",
    "- pandas（数据分析，画图）"
   ]
  },
  {
   "cell_type": "markdown",
   "metadata": {
    "slideshow": {
     "slide_type": "slide"
    }
   },
   "source": [
    "## 如何使用Cell？"
   ]
  },
  {
   "cell_type": "markdown",
   "metadata": {
    "collapsed": true,
    "slideshow": {
     "slide_type": "subslide"
    }
   },
   "source": [
    "### 类型\n",
    "- Code \n",
    "可执行的代码，Jupyter命令、Unix命令、各种脚本语言代码\n",
    "- Markdown\n",
    "可书写markdown\n",
    "- Raw NBconvert\n",
    "应该是默认格式（不确定）\n",
    "- Heading\n",
    "标题级别，相当于html里面的h1、h2……"
   ]
  },
  {
   "cell_type": "markdown",
   "metadata": {
    "slideshow": {
     "slide_type": "slide"
    }
   },
   "source": [
    "### Jupyter命令\n",
    "#### 示例\n",
    "使用`%%`前缀或`%`，如下写入文件："
   ]
  },
  {
   "cell_type": "code",
   "execution_count": 25,
   "metadata": {
    "collapsed": false,
    "slideshow": {
     "slide_type": "subslide"
    }
   },
   "outputs": [
    {
     "name": "stdout",
     "output_type": "stream",
     "text": [
      "Overwriting printName.py\n"
     ]
    }
   ],
   "source": [
    "%%writefile printName.py\n",
    "print \"Alexander Wang\""
   ]
  },
  {
   "cell_type": "markdown",
   "metadata": {
    "slideshow": {
     "slide_type": "subslide"
    }
   },
   "source": [
    "打开刚才写入的文件"
   ]
  },
  {
   "cell_type": "code",
   "execution_count": 26,
   "metadata": {
    "collapsed": true,
    "slideshow": {
     "slide_type": "subslide"
    }
   },
   "outputs": [],
   "source": [
    "%pycat printName.py"
   ]
  },
  {
   "cell_type": "markdown",
   "metadata": {
    "collapsed": true,
    "slideshow": {
     "slide_type": "subslide"
    }
   },
   "source": [
    "#### magics list\n",
    "- `$$  $$` \n",
    "用LaTex写公式，`$$ P(A \\mid B) = \\frac{P(B \\mid A) , P(A)}{P(B)} $$`\n",
    "- `%%bash`,`%%HTML`,`%%python2`,`%%ruby`\n",
    "指定解释器\n",
    "- `%load`\n",
    "`%load ./printName.py`载入外部脚本\n",
    "\n",
    "- `%env` \n",
    "设置环境变量\n",
    "- `%%writefile` \n",
    "可以保存cell下面内容到文件\n",
    "- `%pycat` \n",
    "弹窗打开文件\n",
    "- `%pdb` \n",
    "调试程序\n",
    "-`%prun` \n",
    "每个函数消耗的时间\n",
    "- `%%time` \n",
    "cell内代码的单次运行时间信息\n",
    "- `%who` \n",
    "列出所有的全局变量\n",
    "……"
   ]
  },
  {
   "cell_type": "markdown",
   "metadata": {
    "collapsed": true,
    "slideshow": {
     "slide_type": "slide"
    }
   },
   "source": [
    "### 快捷键\n",
    "工具有个键盘图标可以看所有快捷键\n",
    "\n",
    "`Esc + F` 在代码中查找、替换\n",
    "`Esc + O` 在cell和输出结果间切换。\n",
    "`Shift + J` 或 `Shift + Down` 选择下一个cell。\n",
    "`Shift + K` 或 `Shift + Up` 选择上一个cell。\n",
    "`Shift + M` 合并cell"
   ]
  },
  {
   "cell_type": "markdown",
   "metadata": {
    "collapsed": true,
    "slideshow": {
     "slide_type": "slide"
    }
   },
   "source": [
    "### 使用Unix命令\n",
    "加前缀`!`"
   ]
  },
  {
   "cell_type": "code",
   "execution_count": 31,
   "metadata": {
    "collapsed": false,
    "slideshow": {
     "slide_type": "subslide"
    }
   },
   "outputs": [
    {
     "name": "stdout",
     "output_type": "stream",
     "text": [
      "/Users/wanggang/workspace/learn-python\r\n"
     ]
    }
   ],
   "source": [
    "!pwd"
   ]
  },
  {
   "cell_type": "markdown",
   "metadata": {
    "collapsed": true,
    "slideshow": {
     "slide_type": "slide"
    }
   },
   "source": [
    "### 各种脚本语言\n",
    "- `%%bash`,`%%HTML`,`%%python2`,`%%ruby`\n",
    "指定解释器，默认是启动Jupyter的python解释器"
   ]
  },
  {
   "cell_type": "code",
   "execution_count": 32,
   "metadata": {
    "collapsed": false,
    "slideshow": {
     "slide_type": "subslide"
    }
   },
   "outputs": [
    {
     "name": "stdout",
     "output_type": "stream",
     "text": [
      "hello\n"
     ]
    }
   ],
   "source": [
    "print(\"hello\")"
   ]
  },
  {
   "cell_type": "code",
   "execution_count": 33,
   "metadata": {
    "collapsed": false,
    "slideshow": {
     "slide_type": "subslide"
    }
   },
   "outputs": [
    {
     "name": "stdout",
     "output_type": "stream",
     "text": [
      "hello\n"
     ]
    }
   ],
   "source": [
    "%%bash\n",
    "echo \"hello\""
   ]
  },
  {
   "cell_type": "markdown",
   "metadata": {},
   "source": [
    "保存后，还可以生成slides，和ppt一样的。\n",
    "[使用Jupyter制作slides](https://alexanderwangsgithub.github.io/blog/Jupyter-slides.html)"
   ]
  }
 ],
 "metadata": {
  "celltoolbar": "Slideshow",
  "kernelspec": {
   "display_name": "Python 3",
   "language": "python",
   "name": "python3"
  },
  "language_info": {
   "codemirror_mode": {
    "name": "ipython",
    "version": 3
   },
   "file_extension": ".py",
   "mimetype": "text/x-python",
   "name": "python",
   "nbconvert_exporter": "python",
   "pygments_lexer": "ipython3",
   "version": "3.6.0"
  }
 },
 "nbformat": 4,
 "nbformat_minor": 2
}
